{
 "cells": [
  {
   "attachments": {},
   "cell_type": "markdown",
   "metadata": {},
   "source": [
    "Load Dataset"
   ]
  },
  {
   "cell_type": "code",
   "execution_count": 1,
   "metadata": {},
   "outputs": [],
   "source": [
    "import argparse\n",
    "import time\n",
    "import os\n",
    "import torch\n",
    "import numpy as np\n",
    "import torch.nn as nn\n",
    "import torch.optim as optim\n",
    "from torch.optim import lr_scheduler\n",
    "from torchvision import datasets, models, transforms\n",
    "from train_test import load_model_from_checkpoint, per_class_accuracy\n",
    "from models import ResNet18_Scratch, ResNet18\n",
    "from torch.utils.tensorboard import SummaryWriter\n",
    "from train_test import test, load_model_from_checkpoint\n",
    "\n",
    "\n",
    "def data_loader(batch_size):    \n",
    "    '''Code taken from pytorch tutorial'''\n",
    "    # Data augmentation and normalization for training\n",
    "    # Just normalization for validation\n",
    "    data_transforms = {\n",
    "        'train': transforms.Compose([\n",
    "            transforms.RandomResizedCrop(224),\n",
    "            transforms.RandomHorizontalFlip(),\n",
    "            transforms.ColorJitter(brightness=0.4, saturation=0.4, hue=0.4),\n",
    "            transforms.ToTensor(),\n",
    "            transforms.Normalize([0.485, 0.456, 0.406], [0.229, 0.224, 0.225])\n",
    "        ]),\n",
    "        'val': transforms.Compose([\n",
    "            transforms.Resize(224),\n",
    "            transforms.CenterCrop(224),\n",
    "            transforms.ToTensor(),\n",
    "            transforms.Normalize([0.485, 0.456, 0.406], [0.229, 0.224, 0.225])\n",
    "        ]),\n",
    "        'test': transforms.Compose([\n",
    "            transforms.Resize(256),\n",
    "            transforms.CenterCrop(224),\n",
    "            transforms.ToTensor(),\n",
    "            transforms.Normalize([0.485, 0.456, 0.406], [0.229, 0.224, 0.225])\n",
    "        ]),\n",
    "    }\n",
    "\n",
    "    data_dir = 'chest_xray/'\n",
    "    image_datasets = {x: datasets.ImageFolder(os.path.join(data_dir, x),\n",
    "                                            data_transforms[x])\n",
    "                    for x in ['train', 'val','test']}\n",
    "    dataloaders = {x: torch.utils.data.DataLoader(image_datasets[x], batch_size=batch_size,\n",
    "                                                    shuffle=True, num_workers=8)\n",
    "                    for x in ['train', 'val','test']}\n",
    "    dataset_sizes = {x: len(image_datasets[x]) for x in ['train', 'val','test']}\n",
    "    class_names = image_datasets['train'].classes\n",
    "\n",
    "    return dataloaders, dataset_sizes, class_names\n",
    "\n",
    "dataloader , _, _, = data_loader(32)"
   ]
  },
  {
   "attachments": {},
   "cell_type": "markdown",
   "metadata": {},
   "source": [
    "Test trained 'scratch' model and display per class accuracies"
   ]
  },
  {
   "cell_type": "code",
   "execution_count": 2,
   "metadata": {},
   "outputs": [
    {
     "name": "stderr",
     "output_type": "stream",
     "text": [
      "/home/ron/miniconda3/envs/torch_env/lib/python3.10/site-packages/torchvision/models/_utils.py:208: UserWarning: The parameter 'pretrained' is deprecated since 0.13 and may be removed in the future, please use 'weights' instead.\n",
      "  warnings.warn(\n",
      "/home/ron/miniconda3/envs/torch_env/lib/python3.10/site-packages/torchvision/models/_utils.py:223: UserWarning: Arguments other than a weight enum or `None` for 'weights' are deprecated since 0.13 and may be removed in the future. The current behavior is equivalent to passing `weights=None`.\n",
      "  warnings.warn(msg)\n"
     ]
    },
    {
     "name": "stdout",
     "output_type": "stream",
     "text": [
      "===========Scratch Model===========\n",
      "Test [32/624], Loss: 0.081643, Acc: 100.00\n",
      "Test [352/624], Loss: 0.209811, Acc: 94.03\n",
      "Test [624/624], Loss: 0.232008, Acc: 92.63\n",
      "\n",
      "Accuracy for Normal Class: 83.33%\n",
      "Accuracy for Pneumonia Class: 98.21%\n"
     ]
    }
   ],
   "source": [
    "device = torch.device('cuda' if torch.cuda.is_available else 'cpu')\n",
    "model_scratch = ResNet18_Scratch(0.1).to(device)\n",
    "\n",
    "load_model_from_checkpoint(model_scratch, 'scratch-model.pth')\n",
    "print('===========Scratch Model===========')\n",
    "test(model_scratch, device, dataloader['test'])\n",
    "print()\n",
    "per_class_accuracy(model_scratch, device, dataloader['test'])\n",
    "\n"
   ]
  },
  {
   "attachments": {},
   "cell_type": "markdown",
   "metadata": {},
   "source": [
    "Test trained 'pre-trained' model and display per class accuracies"
   ]
  },
  {
   "cell_type": "code",
   "execution_count": 4,
   "metadata": {},
   "outputs": [
    {
     "name": "stdout",
     "output_type": "stream",
     "text": [
      "==========Pretrained Model==========\n",
      "Test [32/624], Loss: 0.337024, Acc: 90.62\n",
      "Test [352/624], Loss: 0.205154, Acc: 93.75\n",
      "Test [624/624], Loss: 0.208152, Acc: 93.91\n",
      "\n",
      "Accuracy for Normal Class: 84.19%\n",
      "Accuracy for Pneumonia Class: 99.74%\n"
     ]
    }
   ],
   "source": [
    "device = torch.device('cuda' if torch.cuda.is_available else 'cpu')\n",
    "model_pre = ResNet18(0.1).to(device)\n",
    "\n",
    "load_model_from_checkpoint(model_pre, 'pretrained-model.pth')\n",
    "print('==========Pretrained Model==========')\n",
    "test(model_pre, device, dataloader['test'])\n",
    "print()\n",
    "per_class_accuracy(model_pre, device, dataloader['test'])\n",
    "\n"
   ]
  }
 ],
 "metadata": {
  "kernelspec": {
   "display_name": "torch_env",
   "language": "python",
   "name": "python3"
  },
  "language_info": {
   "codemirror_mode": {
    "name": "ipython",
    "version": 3
   },
   "file_extension": ".py",
   "mimetype": "text/x-python",
   "name": "python",
   "nbconvert_exporter": "python",
   "pygments_lexer": "ipython3",
   "version": "3.10.6"
  },
  "orig_nbformat": 4
 },
 "nbformat": 4,
 "nbformat_minor": 2
}
